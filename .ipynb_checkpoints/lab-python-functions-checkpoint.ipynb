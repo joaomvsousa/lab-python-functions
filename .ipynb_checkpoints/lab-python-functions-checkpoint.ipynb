{
 "cells": [
  {
   "cell_type": "markdown",
   "id": "25d7736c-ba17-4aff-b6bb-66eba20fbf4e",
   "metadata": {},
   "source": [
    "# Lab | Functions"
   ]
  },
  {
   "cell_type": "markdown",
   "id": "0c581062-8967-4d93-b06e-62833222f930",
   "metadata": {
    "tags": []
   },
   "source": [
    "## Exercise: Managing Customer Orders with Functions\n",
    "\n",
    "In the previous exercise, you improved the code for managing customer orders by using loops and flow control. Now, let's take it a step further and refactor the code by introducing functions.\n",
    "\n",
    "Follow the steps below to complete the exercise:\n",
    "\n",
    "1. Define a function named `initialize_inventory` that takes `products` as a parameter. Inside the function, implement the code for initializing the inventory dictionary using a loop and user input.\n",
    "\n",
    "2. Define a function named `get_customer_orders` that takes no parameters. Inside the function, implement the code for prompting the user to enter the product names using a loop. The function should return the `customer_orders` set.\n",
    "\n",
    "3. Define a function named `update_inventory` that takes `customer_orders` and `inventory` as parameters. Inside the function, implement the code for updating the inventory dictionary based on the customer orders.\n",
    "\n",
    "4. Define a function named `calculate_order_statistics` that takes `customer_orders` and `products` as parameters. Inside the function, implement the code for calculating the order statistics (total products ordered, and percentage of unique products ordered). The function should return these values.\n",
    "\n",
    "5. Define a function named `print_order_statistics` that takes `order_statistics` as a parameter. Inside the function, implement the code for printing the order statistics.\n",
    "\n",
    "6. Define a function named `print_updated_inventory` that takes `inventory` as a parameter. Inside the function, implement the code for printing the updated inventory.\n",
    "\n",
    "7. Call the functions in the appropriate sequence to execute the program and manage customer orders.\n",
    "\n",
    "Hints for functions:\n",
    "\n",
    "- Consider the input parameters required for each function and their return values.\n",
    "- Utilize function parameters and return values to transfer data between functions.\n",
    "- Test your functions individually to ensure they work correctly.\n",
    "\n",
    "\n"
   ]
  },
  {
   "cell_type": "code",
   "execution_count": 145,
   "id": "c8822aab-746d-4cd8-948a-7d31f1b582aa",
   "metadata": {},
   "outputs": [],
   "source": [
    "products = [\"t-shirt\", \"mug\", \"hat\", \"book\", \"keychain\"]"
   ]
  },
  {
   "cell_type": "code",
   "execution_count": 42,
   "id": "2ffa8769-779a-47d7-83a6-957ab39bac09",
   "metadata": {},
   "outputs": [],
   "source": [
    "def initialize_inventory(products):\n",
    "    inventory = {}\n",
    "    for product in products: \n",
    "        quantity = int(input(f\"Enter the amount {product}s available in inventory: \"))\n",
    "        inventory[product] = quantity\n",
    "    return inventory\n",
    "    \n"
   ]
  },
  {
   "cell_type": "code",
   "execution_count": 21,
   "id": "c31518ea-c081-4751-aabb-9086b9ca9f61",
   "metadata": {},
   "outputs": [
    {
     "name": "stdin",
     "output_type": "stream",
     "text": [
      "Enter the amount t-shirts available in inventory 10\n",
      "Enter the amount mugs available in inventory 10\n",
      "Enter the amount hats available in inventory 10\n",
      "Enter the amount books available in inventory 10\n",
      "Enter the amount keychains available in inventory 10\n"
     ]
    },
    {
     "data": {
      "text/plain": [
       "{'t-shirt': 10, 'mug': 10, 'hat': 10, 'book': 10, 'keychain': 10}"
      ]
     },
     "execution_count": 21,
     "metadata": {},
     "output_type": "execute_result"
    }
   ],
   "source": [
    "initialize_inventory(products)"
   ]
  },
  {
   "cell_type": "code",
   "execution_count": 8,
   "id": "5bb62c13-5900-4490-bc21-c75a0f928e66",
   "metadata": {},
   "outputs": [],
   "source": [
    "def get_customer_orders(products, inventory):\n",
    "    customer_orders = set()\n",
    "    while True:\n",
    "        product = input(\"Enter the name of the product that the customer wants to order: \")\n",
    "        if product in products:\n",
    "            customer_orders.add(product)\n",
    "        else:\n",
    "            print(\"Invalid product! Please select from the available products.\")\n",
    "            \n",
    "        add_another = input(\"Do you want to add another product? (yes/no): \")\n",
    "        if add_another.lower() != 'yes':\n",
    "            break\n",
    "    return customer_orders, inventory\n"
   ]
  },
  {
   "cell_type": "code",
   "execution_count": 24,
   "id": "5c0ebd24-61e3-490b-b04d-96b0f9ae87d7",
   "metadata": {},
   "outputs": [
    {
     "name": "stdin",
     "output_type": "stream",
     "text": [
      "Enter the amount mugs available in inventory 10\n",
      "Enter the amount books available in inventory 10\n",
      "Enter the amount keychains available in inventory 10\n",
      "Enter the amount hats available in inventory 10\n",
      "Enter the amount t-shirts available in inventory 10\n",
      "Enter the name of the product that the customer wants to order:  t-shirt\n",
      "Do you want to add another product? (yes/no):  no\n"
     ]
    },
    {
     "name": "stdout",
     "output_type": "stream",
     "text": [
      "Updated Inventory:\n",
      "mug: 10\n",
      "book: 10\n",
      "keychain: 10\n",
      "hat: 10\n",
      "t-shirt: 9\n"
     ]
    },
    {
     "data": {
      "text/plain": [
       "{'mug': 10, 'book': 10, 'keychain': 10, 'hat': 10, 't-shirt': 9}"
      ]
     },
     "execution_count": 24,
     "metadata": {},
     "output_type": "execute_result"
    }
   ],
   "source": [
    "def update_inventory(customer_orders, inventory):\n",
    "    for product in customer_orders:\n",
    "        inventory[product] -= 1\n",
    "\n",
    "    print(\"Updated Inventory:\")\n",
    "    for product, quantity in inventory.items():\n",
    "        print(f\"{product}: {quantity}\")\n",
    "    return inventory"
   ]
  },
  {
   "cell_type": "code",
   "execution_count": 28,
   "id": "47953d8c-de1c-44bc-81ec-055ffa6d1722",
   "metadata": {},
   "outputs": [],
   "source": [
    "def calculate_order_statistics(customer_orders, inventory):\n",
    "    total_products_ordered = len(customer_orders)\n",
    "    total_available_products = sum(inventory.values())\n",
    "    percentage_ordered = (total_products_ordered / total_available_products) * 100\n",
    "    \n",
    "    order_status = (total_products_ordered, percentage_ordered)\n",
    "    return order_status"
   ]
  },
  {
   "cell_type": "code",
   "execution_count": 32,
   "id": "79bc6f6b-9dba-41f6-9150-a4d351e55026",
   "metadata": {},
   "outputs": [
    {
     "name": "stdout",
     "output_type": "stream",
     "text": [
      "\n",
      "Order statistics:\n",
      "Total products ordered: 1\n",
      "Percentage of products ordered: 2.0408163265306123 %\n"
     ]
    }
   ],
   "source": [
    "def print_order_statistics(order_statistics):\n",
    "    print(\"\\nOrder statistics:\")\n",
    "    print(\"Total products ordered:\", order_statistics[0])\n",
    "    print(\"Percentage of products ordered:\", order_statistics[1], \"%\")"
   ]
  },
  {
   "cell_type": "code",
   "execution_count": 34,
   "id": "47aa5785-ceab-48b6-bbf3-c710d07951fc",
   "metadata": {},
   "outputs": [],
   "source": [
    "def print_update_inventory(inventory):\n",
    "    print(\"Updated Inventory:\")\n",
    "    for product, quantity in inventory.items():\n",
    "        print(f\"{product}: {quantity}\""
   ]
  },
  {
   "cell_type": "code",
   "execution_count": null,
   "id": "ff7f27fc-2f46-4dab-9c33-25ecdac1965a",
   "metadata": {
    "tags": []
   },
   "outputs": [],
   "source": [
    "inventory = initialize_inventory(products)\n",
    "customer_orders, inventory = get_customer_orders(products, inventory)\n",
    "inventory = update_inventory(customer_orders, inventory)\n",
    "order_status = calculate_order_statistics(customer_orders, inventory)\n",
    "print_order_statistics(order_status)\n",
    "print_update_inventory(inventory)"
   ]
  }
 ],
 "metadata": {
  "kernelspec": {
   "display_name": "Python 3 (ipykernel)",
   "language": "python",
   "name": "python3"
  },
  "language_info": {
   "codemirror_mode": {
    "name": "ipython",
    "version": 3
   },
   "file_extension": ".py",
   "mimetype": "text/x-python",
   "name": "python",
   "nbconvert_exporter": "python",
   "pygments_lexer": "ipython3",
   "version": "3.11.7"
  }
 },
 "nbformat": 4,
 "nbformat_minor": 5
}
